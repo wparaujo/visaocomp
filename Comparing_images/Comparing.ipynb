{
 "cells": [
  {
   "cell_type": "markdown",
   "metadata": {},
   "source": [
    "## Analise de similaridade pelo histograma das imagens"
   ]
  },
  {
   "cell_type": "code",
   "execution_count": 1,
   "metadata": {},
   "outputs": [],
   "source": [
    "def histograma(img):\n",
    "    WB = np.zeros(256)\n",
    "    WG = np.zeros(256)\n",
    "    WR = np.zeros(256)\n",
    "    \n",
    "    # Coleta as características da imagens\n",
    "    qntLinhas, qntColunas, c = img.shape\n",
    "    B = img[:,:,0]\n",
    "    G = img[:,:,1]\n",
    "    R = img[:,:,2]\n",
    "    \n",
    "    # Cria histograma dos valores dos pixels\n",
    "    for i in range(qntLinhas):\n",
    "        for j in range(qntColunas):\n",
    "            WB[B[i,j]] = WB[B[i,j]] + 1\n",
    "            WG[G[i,j]] = WG[G[i,j]] + 1\n",
    "            WR[R[i,j]] = WR[R[i,j]] + 1\n",
    "            \n",
    "    # Normaliza os valores do histograma\n",
    "    for i in range(256):\n",
    "        WB[i] = WB[i]/(qntLinhas*qntColunas)\n",
    "        WG[i] = WG[i]/(qntLinhas*qntColunas)\n",
    "        WR[i] = WR[i]/(qntLinhas*qntColunas)\n",
    "        \n",
    "    return np.append(np.append(WB,WG),WR)\n",
    "\n"
   ]
  },
  {
   "cell_type": "code",
   "execution_count": null,
   "metadata": {},
   "outputs": [],
   "source": []
  }
 ],
 "metadata": {
  "kernelspec": {
   "display_name": "Python 3",
   "language": "python",
   "name": "python3"
  },
  "language_info": {
   "codemirror_mode": {
    "name": "ipython",
    "version": 3
   },
   "file_extension": ".py",
   "mimetype": "text/x-python",
   "name": "python",
   "nbconvert_exporter": "python",
   "pygments_lexer": "ipython3",
   "version": "3.7.0"
  }
 },
 "nbformat": 4,
 "nbformat_minor": 2
}

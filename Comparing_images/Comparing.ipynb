{
 "cells": [
  {
   "cell_type": "markdown",
   "metadata": {},
   "source": [
    "## Analise de similaridade pelo histograma das imagens"
   ]
  },
  {
   "cell_type": "code",
   "execution_count": 3,
   "metadata": {},
   "outputs": [],
   "source": [
    "import os\n",
    "import cv2\n",
    "import numpy as np\n",
    "# import matplotlib.pyplot as plt"
   ]
  },
  {
   "cell_type": "code",
   "execution_count": 4,
   "metadata": {},
   "outputs": [],
   "source": [
    "def histograma(img):\n",
    "    WB = np.zeros(256)\n",
    "    WG = np.zeros(256)\n",
    "    WR = np.zeros(256)\n",
    "    \n",
    "    # Coleta as características da imagens\n",
    "    qntLinhas, qntColunas, c = img.shape\n",
    "    B = img[:,:,0]\n",
    "    G = img[:,:,1]\n",
    "    R = img[:,:,2]\n",
    "    \n",
    "    # Cria histograma dos valores dos pixels\n",
    "    for i in range(qntLinhas):\n",
    "        for j in range(qntColunas):\n",
    "            WB[B[i,j]] = WB[B[i,j]] + 1\n",
    "            WG[G[i,j]] = WG[G[i,j]] + 1\n",
    "            WR[R[i,j]] = WR[R[i,j]] + 1\n",
    "            \n",
    "    # Normaliza os valores do histograma\n",
    "    for i in range(256):\n",
    "        WB[i] = WB[i]/(qntLinhas*qntColunas)\n",
    "        WG[i] = WG[i]/(qntLinhas*qntColunas)\n",
    "        WR[i] = WR[i]/(qntLinhas*qntColunas)\n",
    "        \n",
    "    return np.append(np.append(WB,WG),WR)\n"
   ]
  },
  {
   "cell_type": "markdown",
   "metadata": {},
   "source": [
    "## Comparação das imagens"
   ]
  },
  {
   "cell_type": "code",
   "execution_count": 11,
   "metadata": {},
   "outputs": [
    {
     "name": "stdout",
     "output_type": "stream",
     "text": [
      "8.198776596264e-06\n"
     ]
    }
   ],
   "source": [
    "output = cv2.imread('SIFT/img_400x_original_3.png')\n",
    "original = cv2.imread('SIFT/img_400x_output_3.png')\n",
    "\n",
    "histOriginal = histograma(original)\n",
    "histOutput = histograma(output)\n",
    "\n",
    "# Calcula distância Euclidiana\n",
    "tamanhoVetor = len(histOriginal)\n",
    "soma = 0\n",
    "for i in range(tamanhoVetor):\n",
    "    soma = soma + ((histOriginal[i]-histOutput[i])**2)\n",
    "\n",
    "print(soma)"
   ]
  },
  {
   "cell_type": "code",
   "execution_count": null,
   "metadata": {},
   "outputs": [],
   "source": []
  }
 ],
 "metadata": {
  "kernelspec": {
   "display_name": "Python 3",
   "language": "python",
   "name": "python3"
  },
  "language_info": {
   "codemirror_mode": {
    "name": "ipython",
    "version": 3
   },
   "file_extension": ".py",
   "mimetype": "text/x-python",
   "name": "python",
   "nbconvert_exporter": "python",
   "pygments_lexer": "ipython3",
   "version": "3.5.6"
  }
 },
 "nbformat": 4,
 "nbformat_minor": 2
}
